{
 "cells": [
  {
   "cell_type": "code",
   "execution_count": 1,
   "metadata": {},
   "outputs": [],
   "source": [
    "from sklearn.ensemble import RandomForestRegressor\n",
    "import numpy as np\n",
    "import pandas as pd\n",
    "import csv\n",
    "import pdb\n",
    "import os\n",
    "import matplotlib.pyplot as plt\n",
    "import timeit\n",
    "from joblib import dump, load"
   ]
  },
  {
   "cell_type": "code",
   "execution_count": 2,
   "metadata": {},
   "outputs": [],
   "source": [
    "def load_data(directory, target_var):\n",
    "    print(\"Loading data\")\n",
    "    full_data = []\n",
    "    file_names = []\n",
    "    if directory[-1] != '/':\n",
    "        directory = directory + '/'\n",
    "    for root,dir,files in os.walk(directory):\n",
    "        for file in files:\n",
    "            if file.endswith(\".csv\"):\n",
    "                filepath = directory + file\n",
    "#                 print('Loading: ', file)\n",
    "                csv_data = np.genfromtxt(filepath, delimiter=',')\n",
    "                full_data.append(csv_data)\n",
    "                file_names.append(file)\n",
    "    features = np.vstack(full_data)\n",
    "    ground_truth = features[:,target_var]\n",
    "    features = np.delete(features, target_var, axis=1)\n",
    "    \n",
    "    return features, ground_truth, full_data, file_names\n",
    "    "
   ]
  },
  {
   "cell_type": "code",
   "execution_count": 3,
   "metadata": {},
   "outputs": [],
   "source": [
    "def load_data_cv(directory, target_var):\n",
    "    print(\"Loading data\")\n",
    "    full_data = []\n",
    "    file_names = []\n",
    "    ground_truth = []\n",
    "    features = []\n",
    "    if directory[-1] != '/':\n",
    "        directory = directory + '/'\n",
    "    for root,dir,files in os.walk(directory):\n",
    "        for file in files:\n",
    "            if file.endswith(\".csv\"):\n",
    "                filepath = directory + file\n",
    "                print('Loading: ', file)\n",
    "                csv_data = np.genfromtxt(filepath, delimiter=',')\n",
    "                full_data.append(csv_data)\n",
    "                file_names.append(file)\n",
    "    for file in range(0,len(full_data)):\n",
    "        ground_truth.append(full_data[file][:,target_var])\n",
    "        features.append(np.delete(full_data[file], target_var, axis=1))\n",
    "    \n",
    "    return features, ground_truth, file_names"
   ]
  },
  {
   "cell_type": "code",
   "execution_count": 4,
   "metadata": {},
   "outputs": [],
   "source": [
    "def load_file(filepath, target_var):\n",
    "    csv_data = np.genfromtxt(filepath, delimiter=',')\n",
    "    ground_truth = csv_data[:, target_var]\n",
    "    features = np.delete(csv_data, target_var, axis=1)\n",
    "\n",
    "    return features, ground_truth"
   ]
  },
  {
   "cell_type": "code",
   "execution_count": 5,
   "metadata": {
    "scrolled": true
   },
   "outputs": [
    {
     "name": "stdout",
     "output_type": "stream",
     "text": [
      "Loading data\n",
      "Loading data\n",
      "Loading:  data_2010100.csv\n",
      "Loading:  data_2012100.csv\n",
      "Loading:  data_2014100.csv\n",
      "Loading:  data_2015100.csv\n",
      "Loading:  data_2016100.csv\n",
      "Loading:  data_2018100.csv\n",
      "Loading:  data_2020100.csv\n",
      "Loading:  data_2022100.csv\n",
      "Loading:  data_2024100.csv\n",
      "Loading:  data_2026100.csv\n",
      "Loading:  data_2028100.csv\n",
      "Loading:  data_2030100.csv\n",
      "Loading:  data_2032100.csv\n",
      "Loading:  data_2034100.csv\n",
      "Loading:  data_2035100.csv\n",
      "Loading:  data_2036100.csv\n",
      "Loading:  data_2038100.csv\n",
      "Loading:  data_2040100.csv\n",
      "--Call--\n",
      "> /home/ubuntu/anaconda3/lib/python3.7/site-packages/IPython/core/displayhook.py(252)__call__()\n",
      "-> def __call__(self, result=None):\n",
      "(Pdb) cv_features\n",
      "*** NameError: name 'cv_features' is not defined\n",
      "(Pdb) cv_truth\n",
      "*** NameError: name 'cv_truth' is not defined\n",
      "(Pdb) training_features\n",
      "*** NameError: name 'training_features' is not defined\n",
      "(Pdb) q\n"
     ]
    },
    {
     "ename": "BdbQuit",
     "evalue": "",
     "output_type": "error",
     "traceback": [
      "\u001b[0;31m---------------------------------------------------------------------------\u001b[0m",
      "\u001b[0;31mBdbQuit\u001b[0m                                   Traceback (most recent call last)",
      "\u001b[0;32m<ipython-input-5-24d9b29ac5c0>\u001b[0m in \u001b[0;36m<module>\u001b[0;34m\u001b[0m\n\u001b[1;32m      3\u001b[0m \u001b[0mtraining_features\u001b[0m\u001b[0;34m,\u001b[0m \u001b[0mtraining_truth\u001b[0m\u001b[0;34m,\u001b[0m \u001b[0m_\u001b[0m\u001b[0;34m,\u001b[0m \u001b[0m_\u001b[0m \u001b[0;34m=\u001b[0m \u001b[0mload_data\u001b[0m\u001b[0;34m(\u001b[0m\u001b[0;34m'/mnt/d/git/heat_chamber_code/jupyter/train/'\u001b[0m\u001b[0;34m,\u001b[0m \u001b[0mtruth_index\u001b[0m\u001b[0;34m)\u001b[0m\u001b[0;34m\u001b[0m\u001b[0;34m\u001b[0m\u001b[0m\n\u001b[1;32m      4\u001b[0m \u001b[0mcv_features\u001b[0m\u001b[0;34m,\u001b[0m \u001b[0mcv_truth\u001b[0m\u001b[0;34m,\u001b[0m \u001b[0mcv_file_names\u001b[0m \u001b[0;34m=\u001b[0m \u001b[0mload_data_cv\u001b[0m\u001b[0;34m(\u001b[0m\u001b[0;34m'/mnt/d/git/heat_chamber_code/jupyter/train/'\u001b[0m\u001b[0;34m,\u001b[0m \u001b[0mtruth_index\u001b[0m\u001b[0;34m)\u001b[0m\u001b[0;34m\u001b[0m\u001b[0;34m\u001b[0m\u001b[0m\n\u001b[0;32m----> 5\u001b[0;31m \u001b[0mpdb\u001b[0m\u001b[0;34m.\u001b[0m\u001b[0mset_trace\u001b[0m\u001b[0;34m(\u001b[0m\u001b[0;34m)\u001b[0m\u001b[0;34m\u001b[0m\u001b[0;34m\u001b[0m\u001b[0m\n\u001b[0m",
      "\u001b[0;32m~/anaconda3/lib/python3.7/site-packages/IPython/core/displayhook.py\u001b[0m in \u001b[0;36m__call__\u001b[0;34m(self, result)\u001b[0m\n\u001b[1;32m    250\u001b[0m         \u001b[0msys\u001b[0m\u001b[0;34m.\u001b[0m\u001b[0mstdout\u001b[0m\u001b[0;34m.\u001b[0m\u001b[0mflush\u001b[0m\u001b[0;34m(\u001b[0m\u001b[0;34m)\u001b[0m\u001b[0;34m\u001b[0m\u001b[0;34m\u001b[0m\u001b[0m\n\u001b[1;32m    251\u001b[0m \u001b[0;34m\u001b[0m\u001b[0m\n\u001b[0;32m--> 252\u001b[0;31m     \u001b[0;32mdef\u001b[0m \u001b[0m__call__\u001b[0m\u001b[0;34m(\u001b[0m\u001b[0mself\u001b[0m\u001b[0;34m,\u001b[0m \u001b[0mresult\u001b[0m\u001b[0;34m=\u001b[0m\u001b[0;32mNone\u001b[0m\u001b[0;34m)\u001b[0m\u001b[0;34m:\u001b[0m\u001b[0;34m\u001b[0m\u001b[0;34m\u001b[0m\u001b[0m\n\u001b[0m\u001b[1;32m    253\u001b[0m         \"\"\"Printing with history cache management.\n\u001b[1;32m    254\u001b[0m \u001b[0;34m\u001b[0m\u001b[0m\n",
      "\u001b[0;32m~/anaconda3/lib/python3.7/bdb.py\u001b[0m in \u001b[0;36mtrace_dispatch\u001b[0;34m(self, frame, event, arg)\u001b[0m\n\u001b[1;32m     88\u001b[0m             \u001b[0;32mreturn\u001b[0m \u001b[0mself\u001b[0m\u001b[0;34m.\u001b[0m\u001b[0mdispatch_line\u001b[0m\u001b[0;34m(\u001b[0m\u001b[0mframe\u001b[0m\u001b[0;34m)\u001b[0m\u001b[0;34m\u001b[0m\u001b[0;34m\u001b[0m\u001b[0m\n\u001b[1;32m     89\u001b[0m         \u001b[0;32mif\u001b[0m \u001b[0mevent\u001b[0m \u001b[0;34m==\u001b[0m \u001b[0;34m'call'\u001b[0m\u001b[0;34m:\u001b[0m\u001b[0;34m\u001b[0m\u001b[0;34m\u001b[0m\u001b[0m\n\u001b[0;32m---> 90\u001b[0;31m             \u001b[0;32mreturn\u001b[0m \u001b[0mself\u001b[0m\u001b[0;34m.\u001b[0m\u001b[0mdispatch_call\u001b[0m\u001b[0;34m(\u001b[0m\u001b[0mframe\u001b[0m\u001b[0;34m,\u001b[0m \u001b[0marg\u001b[0m\u001b[0;34m)\u001b[0m\u001b[0;34m\u001b[0m\u001b[0;34m\u001b[0m\u001b[0m\n\u001b[0m\u001b[1;32m     91\u001b[0m         \u001b[0;32mif\u001b[0m \u001b[0mevent\u001b[0m \u001b[0;34m==\u001b[0m \u001b[0;34m'return'\u001b[0m\u001b[0;34m:\u001b[0m\u001b[0;34m\u001b[0m\u001b[0;34m\u001b[0m\u001b[0m\n\u001b[1;32m     92\u001b[0m             \u001b[0;32mreturn\u001b[0m \u001b[0mself\u001b[0m\u001b[0;34m.\u001b[0m\u001b[0mdispatch_return\u001b[0m\u001b[0;34m(\u001b[0m\u001b[0mframe\u001b[0m\u001b[0;34m,\u001b[0m \u001b[0marg\u001b[0m\u001b[0;34m)\u001b[0m\u001b[0;34m\u001b[0m\u001b[0;34m\u001b[0m\u001b[0m\n",
      "\u001b[0;32m~/anaconda3/lib/python3.7/bdb.py\u001b[0m in \u001b[0;36mdispatch_call\u001b[0;34m(self, frame, arg)\u001b[0m\n\u001b[1;32m    133\u001b[0m             \u001b[0;32mreturn\u001b[0m \u001b[0mself\u001b[0m\u001b[0;34m.\u001b[0m\u001b[0mtrace_dispatch\u001b[0m\u001b[0;34m\u001b[0m\u001b[0;34m\u001b[0m\u001b[0m\n\u001b[1;32m    134\u001b[0m         \u001b[0mself\u001b[0m\u001b[0;34m.\u001b[0m\u001b[0muser_call\u001b[0m\u001b[0;34m(\u001b[0m\u001b[0mframe\u001b[0m\u001b[0;34m,\u001b[0m \u001b[0marg\u001b[0m\u001b[0;34m)\u001b[0m\u001b[0;34m\u001b[0m\u001b[0;34m\u001b[0m\u001b[0m\n\u001b[0;32m--> 135\u001b[0;31m         \u001b[0;32mif\u001b[0m \u001b[0mself\u001b[0m\u001b[0;34m.\u001b[0m\u001b[0mquitting\u001b[0m\u001b[0;34m:\u001b[0m \u001b[0;32mraise\u001b[0m \u001b[0mBdbQuit\u001b[0m\u001b[0;34m\u001b[0m\u001b[0;34m\u001b[0m\u001b[0m\n\u001b[0m\u001b[1;32m    136\u001b[0m         \u001b[0;32mreturn\u001b[0m \u001b[0mself\u001b[0m\u001b[0;34m.\u001b[0m\u001b[0mtrace_dispatch\u001b[0m\u001b[0;34m\u001b[0m\u001b[0;34m\u001b[0m\u001b[0m\n\u001b[1;32m    137\u001b[0m \u001b[0;34m\u001b[0m\u001b[0m\n",
      "\u001b[0;31mBdbQuit\u001b[0m: "
     ]
    }
   ],
   "source": [
    "truth_index = 2\n",
    "start = timeit.default_timer()\n",
    "training_features, training_truth, _, _ = load_data('/mnt/d/git/heat_chamber_code/jupyter/train/', truth_index)\n",
    "cv_features, cv_truth, cv_file_names = load_data_cv('/mnt/d/git/heat_chamber_code/jupyter/train/', truth_index)"
   ]
  },
  {
   "cell_type": "code",
   "execution_count": null,
   "metadata": {
    "scrolled": false
   },
   "outputs": [],
   "source": [
    "pdb.set_trace()\n",
    "forest = RandomForestRegressor(n_estimators=50, random_state=42)\n",
    "forest.fit(training_features, training_truth)\n",
    "dump(forest, 'random_forest_model.joblib')"
   ]
  },
  {
   "cell_type": "code",
   "execution_count": null,
   "metadata": {
    "scrolled": true
   },
   "outputs": [],
   "source": [
    "test_features, test_truth, run_list, file_names = load_data('/mnt/d/git/heat_chamber_code/jupyter/test/', truth_index)\n",
    "score = forest.score(test_features, test_truth)\n",
    "prediction_array = []\n",
    "truth_array = []\n",
    "error_array = []\n",
    "for run in range(len(run_list)):\n",
    "    run_predictions = []\n",
    "    run_truth = []\n",
    "    temp_err = []\n",
    "    index = 0\n",
    "    for row in run_list[run]:\n",
    "        run_truth.append(row[truth_index])\n",
    "        row = np.delete(row, truth_index)\n",
    "        prediction = forest.predict([row])\n",
    "        run_predictions.append(prediction)\n",
    "        temp_err.append(100*abs((run_truth[-1] - prediction)/run_truth[-1]))\n",
    "        index = index + 1\n",
    "    run_predictions = np.vstack(run_predictions)\n",
    "    error_array.append(np.vstack(temp_err))\n",
    "    run_truth = np.vstack(run_truth)\n",
    "    prediction_array.append(run_predictions)\n",
    "    truth_array.append(run_truth)"
   ]
  },
  {
   "cell_type": "code",
   "execution_count": null,
   "metadata": {},
   "outputs": [],
   "source": [
    "print(\"Score: \", score)"
   ]
  },
  {
   "cell_type": "code",
   "execution_count": null,
   "metadata": {
    "scrolled": false
   },
   "outputs": [],
   "source": [
    "for i in range(len(run_list)):\n",
    "    plt.figure\n",
    "    plt.plot(range(len(truth_array[i])), truth_array[i], label=\"Ground truth\")\n",
    "    plt.plot(range(len(truth_array[i])), run_list[i][:,1], label=\"Outer temp\")\n",
    "    plt.plot(range(len(truth_array[i])), prediction_array[i], label=\"Prediction\")\n",
    "    plt.legend(loc=\"lower right\")\n",
    "    plt.xlabel('Time (s)')\n",
    "    plt.ylabel('Temperature ($\\degree$C)')\n",
    "    plt.title('Random Forest Test ' + file_names[i])\n",
    "    plt.show()\n",
    "    plt.figure\n",
    "    plt.plot(range(len(error_array[i])), error_array[i])\n",
    "    plt.xlabel('Time (s)')\n",
    "    plt.ylabel('% Error')\n",
    "    plt.title('Random Forest %Error Test ' + file_names[i])\n",
    "    plt.show()\n",
    "\n",
    "stop = timeit.default_timer()\n",
    "print('Time: ', stop - start)  "
   ]
  },
  {
   "cell_type": "code",
   "execution_count": null,
   "metadata": {},
   "outputs": [],
   "source": []
  }
 ],
 "metadata": {
  "kernelspec": {
   "display_name": "Python 3",
   "language": "python",
   "name": "python3"
  },
  "language_info": {
   "codemirror_mode": {
    "name": "ipython",
    "version": 3
   },
   "file_extension": ".py",
   "mimetype": "text/x-python",
   "name": "python",
   "nbconvert_exporter": "python",
   "pygments_lexer": "ipython3",
   "version": "3.7.4"
  }
 },
 "nbformat": 4,
 "nbformat_minor": 2
}
