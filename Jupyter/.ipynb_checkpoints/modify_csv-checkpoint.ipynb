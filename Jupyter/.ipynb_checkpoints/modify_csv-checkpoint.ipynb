{
 "cells": [
  {
   "cell_type": "code",
   "execution_count": 1,
   "metadata": {},
   "outputs": [],
   "source": [
    "from sklearn.ensemble import RandomForestRegressor\n",
    "from sklearn.model_selection import train_test_split\n",
    "import numpy as np\n",
    "import pandas as pd\n",
    "import csv\n",
    "import pdb\n",
    "import os\n",
    "import matplotlib.pyplot as plt\n",
    "import timeit\n",
    "from joblib import dump, load"
   ]
  },
  {
   "cell_type": "code",
   "execution_count": 15,
   "metadata": {},
   "outputs": [],
   "source": [
    "def new_data(directory):\n",
    "    full_data = []\n",
    "    if directory[-1] != '/':\n",
    "        directory = directory + '/'\n",
    "    for root,dir,files in os.walk(directory):\n",
    "        for file in files:\n",
    "            if file.endswith(\".csv\"):\n",
    "                filepath = directory + file\n",
    "                f = open(filepath)\n",
    "                csv_f = csv.reader(f)\n",
    "                csv_data = []\n",
    "                for row in csv_f:\n",
    "                    row.insert(3, row[3])\n",
    "                    csv_data.append(row)\n",
    "                newfilepath = directory + 'New' + file\n",
    "                with open(newfilepath, mode='w') as newfile:\n",
    "                    writer = csv.writer(newfile)\n",
    "                    for i in range(len(csv_data)):\n",
    "                        writer.writerow(csv_data[i])\n",
    "                    \n",
    "    \n"
   ]
  },
  {
   "cell_type": "code",
   "execution_count": null,
   "metadata": {},
   "outputs": [],
   "source": [
    "new_data('/mnt/d/git/heat_chamber_code/jupyter/variable size and temp/')"
   ]
  }
 ],
 "metadata": {
  "kernelspec": {
   "display_name": "Python 3",
   "language": "python",
   "name": "python3"
  },
  "language_info": {
   "codemirror_mode": {
    "name": "ipython",
    "version": 3
   },
   "file_extension": ".py",
   "mimetype": "text/x-python",
   "name": "python",
   "nbconvert_exporter": "python",
   "pygments_lexer": "ipython3",
   "version": "3.7.4"
  }
 },
 "nbformat": 4,
 "nbformat_minor": 2
}
