{
 "cells": [
  {
   "cell_type": "code",
   "execution_count": 1,
   "metadata": {},
   "outputs": [],
   "source": [
    "from sklearn.ensemble import RandomForestRegressor\n",
    "import numpy as np\n",
    "import pandas as pd\n",
    "import csv\n",
    "import pdb\n",
    "import os\n",
    "import matplotlib.pyplot as plt\n",
    "import timeit\n",
    "from joblib import dump, load"
   ]
  },
  {
   "cell_type": "code",
   "execution_count": 2,
   "metadata": {},
   "outputs": [],
   "source": [
    "def load_data(directory, target_var):\n",
    "    print(\"Loading data\")\n",
    "    full_data = []\n",
    "    file_names = []\n",
    "    if directory[-1] != '/':\n",
    "        directory = directory + '/'\n",
    "    for root,dir,files in os.walk(directory):\n",
    "        for file in files:\n",
    "            if file.endswith(\".csv\"):\n",
    "                filepath = directory + file\n",
    "#                 print('Loading: ', file)\n",
    "                csv_data = np.genfromtxt(filepath, delimiter=',')\n",
    "                full_data.append(csv_data)\n",
    "                file_names.append(file)\n",
    "    features = np.vstack(full_data)\n",
    "    ground_truth = features[:,target_var]\n",
    "    features = np.delete(features, target_var, axis=1)\n",
    "    \n",
    "    return features, ground_truth, full_data, file_names\n",
    "    "
   ]
  },
  {
   "cell_type": "code",
   "execution_count": 3,
   "metadata": {},
   "outputs": [],
   "source": [
    "def load_data_cv(directory, target_var):\n",
    "    print(\"Loading data\")\n",
    "    full_data = []\n",
    "    file_names = []\n",
    "    ground_truth = []\n",
    "    features = []\n",
    "    if directory[-1] != '/':\n",
    "        directory = directory + '/'\n",
    "    for root,dir,files in os.walk(directory):\n",
    "        for file in files:\n",
    "            if file.endswith(\".csv\"):\n",
    "                filepath = directory + file\n",
    "                print('Loading: ', file)\n",
    "                csv_data = np.genfromtxt(filepath, delimiter=',')\n",
    "                full_data.append(csv_data)\n",
    "                file_names.append(file)\n",
    "    for file in range(0,len(full_data)):\n",
    "        ground_truth.append(full_data[file][:,target_var])\n",
    "        features.append(np.delete(full_data[file], target_var, axis=1))\n",
    "    \n",
    "    return features, ground_truth, file_names"
   ]
  },
  {
   "cell_type": "code",
   "execution_count": 4,
   "metadata": {},
   "outputs": [],
   "source": [
    "def load_file(filepath, target_var):\n",
    "    csv_data = np.genfromtxt(filepath, delimiter=',')\n",
    "    ground_truth = csv_data[:, target_var]\n",
    "    features = np.delete(csv_data, target_var, axis=1)\n",
    "\n",
    "    return features, ground_truth"
   ]
  },
  {
   "cell_type": "code",
   "execution_count": 5,
   "metadata": {
    "scrolled": false
   },
   "outputs": [
    {
     "name": "stdout",
     "output_type": "stream",
     "text": [
      "Loading data\n"
     ]
    }
   ],
   "source": [
    "truth_index = 2\n",
    "start = timeit.default_timer()\n",
    "cv_features, cv_truth, cv_file_names = load_data_cv('/mnt/d/git/heat_chamber_code/jupyter/real_cross_validation/', truth_index)"
   ]
  },
  {
   "cell_type": "code",
   "execution_count": 6,
   "metadata": {},
   "outputs": [],
   "source": [
    "train_set_features = []\n",
    "train_set_truth = []\n",
    "train_features = []\n",
    "train_truth = []\n",
    "num_runs = len(cv_features)\n",
    "# Build leave one hold out training sets\n",
    "for test_run in range(0,num_runs):\n",
    "    for train_run in range(0, num_runs):\n",
    "        if test_run != train_run:\n",
    "            train_features.append(cv_features[train_run])\n",
    "            train_truth.append(cv_truth[train_run])\n",
    "    train_set_truth.append(np.hstack(train_truth))\n",
    "    train_set_features.append(np.vstack(train_features))\n",
    "    train_truth = []\n",
    "    train_features = []"
   ]
  },
  {
   "cell_type": "code",
   "execution_count": 7,
   "metadata": {
    "scrolled": true
   },
   "outputs": [],
   "source": [
    "forest = RandomForestRegressor(random_state=42)\n",
    "score = []\n",
    "prediction_array = []\n",
    "truth_array = []\n",
    "error_array = []\n",
    "for run in range(0,num_runs):\n",
    "    forest.fit(train_set_features[run], train_set_truth[run])\n",
    "    score.append(forest.score(cv_features[run], cv_truth[run]))\n",
    "    run_predictions = []\n",
    "    run_truth = []\n",
    "    temp_err = []\n",
    "    index = 0\n",
    "    for sample in range(0, len(cv_features[run])):\n",
    "        prediction = forest.predict([cv_features[run][sample]])\n",
    "        run_predictions.append(prediction)\n",
    "        temp_err.append(100*abs((cv_truth[run][sample] - prediction)/cv_truth[run][sample]))\n",
    "        index = index + 1\n",
    "    run_predictions = np.vstack(run_predictions)\n",
    "    error_array.append(np.vstack(temp_err))\n",
    "    prediction_array.append(run_predictions)\n",
    "    truth_array.append(cv_truth[run])\n",
    "    "
   ]
  },
  {
   "cell_type": "code",
   "execution_count": 8,
   "metadata": {},
   "outputs": [
    {
     "name": "stdout",
     "output_type": "stream",
     "text": [
      "Cross validation score: nan\n"
     ]
    },
    {
     "name": "stderr",
     "output_type": "stream",
     "text": [
      "/home/ubuntu/anaconda3/lib/python3.7/site-packages/numpy/lib/function_base.py:390: RuntimeWarning: Mean of empty slice.\n",
      "  avg = a.mean(axis)\n",
      "/home/ubuntu/anaconda3/lib/python3.7/site-packages/numpy/core/_methods.py:161: RuntimeWarning: invalid value encountered in double_scalars\n",
      "  ret = ret.dtype.type(ret / rcount)\n"
     ]
    }
   ],
   "source": [
    "average_score = str(np.average(score))\n",
    "print('Cross validation score: ' + average_score)"
   ]
  },
  {
   "cell_type": "code",
   "execution_count": 9,
   "metadata": {
    "scrolled": false
   },
   "outputs": [
    {
     "name": "stdout",
     "output_type": "stream",
     "text": [
      "Time:  0.05083240000004707\n"
     ]
    }
   ],
   "source": [
    "for i in range(0,num_runs):\n",
    "    score_str = str(score[i])\n",
    "    print('Score: ' + score_str)\n",
    "    plt.figure\n",
    "    plt.plot(range(len(truth_array[i])), truth_array[i], label=\"Ground truth\")\n",
    "    plt.plot(range(len(truth_array[i])), cv_features[i][:,1], label=\"Outer temp\")\n",
    "    plt.plot(range(len(truth_array[i])), prediction_array[i], label=\"Prediction\")\n",
    "    plt.legend(loc=\"lower right\")\n",
    "    plt.xlabel('Time (s)')\n",
    "    plt.ylabel('Temperature ($\\degree$C)')\n",
    "    plt.title('Random Forest Test ' + cv_file_names[i])\n",
    "    plt.show()\n",
    "    plt.figure\n",
    "    plt.plot(range(len(error_array[i])), error_array[i])\n",
    "    plt.xlabel('Time (s)')\n",
    "    plt.ylabel('% Error')\n",
    "    plt.title('Random Forest %Error Test ' + cv_file_names[i])\n",
    "    plt.show()\n",
    "\n",
    "stop = timeit.default_timer()\n",
    "print('Time: ', stop - start)  "
   ]
  }
 ],
 "metadata": {
  "kernelspec": {
   "display_name": "Python 3",
   "language": "python",
   "name": "python3"
  },
  "language_info": {
   "codemirror_mode": {
    "name": "ipython",
    "version": 3
   },
   "file_extension": ".py",
   "mimetype": "text/x-python",
   "name": "python",
   "nbconvert_exporter": "python",
   "pygments_lexer": "ipython3",
   "version": "3.7.4"
  }
 },
 "nbformat": 4,
 "nbformat_minor": 2
}
