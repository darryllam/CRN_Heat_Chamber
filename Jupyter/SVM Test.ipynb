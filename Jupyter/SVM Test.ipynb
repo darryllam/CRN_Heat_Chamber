{
 "cells": [
  {
   "cell_type": "code",
   "execution_count": 1,
   "metadata": {},
   "outputs": [],
   "source": [
    "from sklearn import svm\n",
    "import numpy as np\n",
    "import pandas as pd\n",
    "import csv\n",
    "import pdb\n",
    "import os\n",
    "import matplotlib.pyplot as plt\n",
    "import timeit\n",
    "from joblib import dump, load"
   ]
  },
  {
   "cell_type": "code",
   "execution_count": 2,
   "metadata": {},
   "outputs": [],
   "source": [
    "def load_data(directory, target_var):\n",
    "    print(\"Loading data\")\n",
    "    full_data = []\n",
    "    if directory[-1] != '/':\n",
    "        directory = directory + '/'\n",
    "    for root,dir,files in os.walk(directory):\n",
    "        for file in files:\n",
    "            if file.endswith(\".csv\"):\n",
    "                filepath = directory + file\n",
    "#                 print('Loading: ', file)\n",
    "                csv_data = np.genfromtxt(filepath, delimiter=',')\n",
    "                full_data.append(csv_data)\n",
    "    features = np.vstack(full_data)\n",
    "    ground_truth = features[:,target_var]\n",
    "    features = np.delete(features, target_var, axis=1)\n",
    "    \n",
    "    return features, ground_truth, full_data\n",
    "    "
   ]
  },
  {
   "cell_type": "code",
   "execution_count": 3,
   "metadata": {},
   "outputs": [],
   "source": [
    "def load_file(filepath, target_var):\n",
    "    csv_data = np.genfromtxt(filepath, delimiter=',')\n",
    "    ground_truth = csv_data[:, target_var]\n",
    "    features = np.delete(csv_data, target_var, axis=1)\n",
    "\n",
    "    return features, ground_truth"
   ]
  },
  {
   "cell_type": "code",
   "execution_count": 4,
   "metadata": {
    "scrolled": true
   },
   "outputs": [
    {
     "name": "stdout",
     "output_type": "stream",
     "text": [
      "Loading data\n"
     ]
    }
   ],
   "source": [
    "truth_index = 2\n",
    "start = timeit.default_timer()\n",
    "training_features, training_truth, _ = load_data('/mnt/d/git/heat_chamber_code/jupyter/train/', truth_index)"
   ]
  },
  {
   "cell_type": "code",
   "execution_count": 5,
   "metadata": {
    "scrolled": false
   },
   "outputs": [
    {
     "name": "stderr",
     "output_type": "stream",
     "text": [
      "/home/ubuntu/anaconda3/lib/python3.7/site-packages/sklearn/svm/base.py:193: FutureWarning: The default value of gamma will change from 'auto' to 'scale' in version 0.22 to account better for unscaled features. Set gamma explicitly to 'auto' or 'scale' to avoid this warning.\n",
      "  \"avoid this warning.\", FutureWarning)\n"
     ]
    },
    {
     "data": {
      "text/plain": [
       "['svm_model.joblib']"
      ]
     },
     "execution_count": 5,
     "metadata": {},
     "output_type": "execute_result"
    }
   ],
   "source": [
    "clf = svm.SVR()\n",
    "clf.fit(training_features, training_truth)\n",
    "dump(clf, 'svm_model.joblib')"
   ]
  },
  {
   "cell_type": "code",
   "execution_count": 6,
   "metadata": {
    "scrolled": true
   },
   "outputs": [
    {
     "name": "stdout",
     "output_type": "stream",
     "text": [
      "Loading data\n"
     ]
    }
   ],
   "source": [
    "test_features, test_truth, run_list = load_data('/mnt/d/git/heat_chamber_code/jupyter/test/', truth_index)\n",
    "score = clf.score(test_features, test_truth)\n",
    "prediction_array = []\n",
    "truth_array = []\n",
    "for run in range(len(run_list)):\n",
    "    run_predictions = []\n",
    "    run_truth = []\n",
    "    for row in run_list[run]:\n",
    "        run_truth.append(row[truth_index])\n",
    "        row = np.delete(row, truth_index)\n",
    "        prediction = clf.predict([row])\n",
    "        run_predictions.append(prediction)\n",
    "    run_predictions = np.vstack(run_predictions)\n",
    "    run_truth = np.vstack(run_truth)\n",
    "    prediction_array.append(run_predictions)\n",
    "    truth_array.append(run_truth)"
   ]
  },
  {
   "cell_type": "code",
   "execution_count": 7,
   "metadata": {
    "scrolled": true
   },
   "outputs": [
    {
     "name": "stdout",
     "output_type": "stream",
     "text": [
      "Score:  0.03988735902543372\n"
     ]
    }
   ],
   "source": [
    "print(\"Score: \", score)"
   ]
  },
  {
   "cell_type": "code",
   "execution_count": 8,
   "metadata": {
    "scrolled": false
   },
   "outputs": [
    {
     "data": {
      "image/png": "[encoded data removed]",
      "text/plain": [
       "<Figure size 432x288 with 1 Axes>"
      ]
     },
     "metadata": {
      "needs_background": "light"
     },
     "output_type": "display_data"
    },
    {
     "name": "stdout",
     "output_type": "stream",
     "text": [
      "Time:  962.3887760999999\n"
     ]
    }
   ],
   "source": [
    "for i in range(len(run_list)):\n",
    "    plt.figure\n",
    "    plt.plot(range(len(truth_array[i])), truth_array[i], label=\"Ground truth\")\n",
    "    plt.plot(range(len(truth_array[i])), run_list[i][:,1], label=\"Outer temp\")\n",
    "    plt.plot(range(len(truth_array[i])), prediction_array[i], label=\"Prediction\")\n",
    "    plt.legend(loc=\"lower right\")\n",
    "    plt.xlabel('Time (s)')\n",
    "    plt.ylabel('Temperature ($\\degree$C)')\n",
    "    plt.title('SVM Example')\n",
    "    plt.show()\n",
    "\n",
    "stop = timeit.default_timer()\n",
    "print('Time: ', stop - start)  "
   ]
  }
 ],
 "metadata": {
  "kernelspec": {
   "display_name": "Python 3",
   "language": "python",
   "name": "python3"
  },
  "language_info": {
   "codemirror_mode": {
    "name": "ipython",
    "version": 3
   },
   "file_extension": ".py",
   "mimetype": "text/x-python",
   "name": "python",
   "nbconvert_exporter": "python",
   "pygments_lexer": "ipython3",
   "version": "3.7.4"
  }
 },
 "nbformat": 4,
 "nbformat_minor": 2
}
